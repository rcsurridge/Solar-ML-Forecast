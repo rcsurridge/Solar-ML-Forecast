{
 "cells": [
  {
   "cell_type": "code",
   "execution_count": 19,
   "metadata": {},
   "outputs": [
    {
     "name": "stdout",
     "output_type": "stream",
     "text": [
      "First five rows of daily_weather:\n",
      "     Date  Cloud coverage  Visibility  Temperature  Dew point   \n",
      "0  2/1/16            0.10        9.45         3.11       0.32  \\\n",
      "1  2/2/16            0.80        3.94         6.99       6.22   \n",
      "2  2/3/16            0.87        8.70         1.62       0.02   \n",
      "3  2/4/16            0.37       10.00        -2.47      -5.89   \n",
      "4  2/5/16            0.52        9.21        -2.00      -4.15   \n",
      "\n",
      "   Relative humidity  Wind speed  Station pressure  Altimeter  Solar energy  \n",
      "0              79.46        4.70             29.23      30.02       20256.0  \n",
      "1              93.60       13.29             28.91      29.70        1761.0  \n",
      "2              85.00       16.73             29.03      29.82        2775.0  \n",
      "3              74.52        9.46             29.46      30.26       28695.0  \n",
      "4              82.03        5.92             29.55      30.35        9517.0  \n",
      "\n",
      "Shape of daily_weather:\n",
      "(637, 10)\n"
     ]
    }
   ],
   "source": [
    "import pandas as pd\n",
    "\n",
    "daily_weather = pd.read_csv('datasets/daily_weather.csv', delimiter=',')\n",
    "daily_weather = daily_weather.drop('(Inverters)', axis=1)\n",
    "\n",
    "print(\"First five rows of daily_weather:\")\n",
    "print(daily_weather.head())\n",
    "\n",
    "print(\"\\nShape of daily_weather:\")\n",
    "print(daily_weather.shape)\n"
   ]
  },
  {
   "cell_type": "code",
   "execution_count": 22,
   "metadata": {},
   "outputs": [],
   "source": [
    "from sklearn.model_selection import train_test_split\n",
    "\n",
    "# Select all rows and columns except the first and last\n",
    "X = daily_weather.iloc[:, 1:-1]\n",
    "y = daily_weather.iloc[:, -1]\n",
    "\n",
    "# Split the data into training, holdout, and test sets\n",
    "X_train, X_temp, y_train, y_temp = train_test_split(X, y, test_size=0.2, random_state=42)\n",
    "X_holdout, X_test, y_holdout, y_test = train_test_split(X_temp, y_temp, test_size=0.5, random_state=42)"
   ]
  }
 ],
 "metadata": {
  "kernelspec": {
   "display_name": "Python 3",
   "language": "python",
   "name": "python3"
  },
  "language_info": {
   "codemirror_mode": {
    "name": "ipython",
    "version": 3
   },
   "file_extension": ".py",
   "mimetype": "text/x-python",
   "name": "python",
   "nbconvert_exporter": "python",
   "pygments_lexer": "ipython3",
   "version": "3.11.5"
  },
  "orig_nbformat": 4
 },
 "nbformat": 4,
 "nbformat_minor": 2
}
