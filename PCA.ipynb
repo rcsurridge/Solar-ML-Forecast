{
 "cells": [
  {
   "cell_type": "code",
   "execution_count": 11,
   "metadata": {},
   "outputs": [],
   "source": [
    "import pandas as pd\n",
    "from sklearn.model_selection import train_test_split"
   ]
  },
  {
   "cell_type": "code",
   "execution_count": 12,
   "metadata": {},
   "outputs": [
    {
     "name": "stdout",
     "output_type": "stream",
     "text": [
      "First five rows of daily_weather:\n",
      "     Date  Cloud coverage  Visibility  Temperature  Dew point   \n",
      "0  2/1/16            0.10        9.45         3.11       0.32  \\\n",
      "1  2/2/16            0.80        3.94         6.99       6.22   \n",
      "2  2/3/16            0.87        8.70         1.62       0.02   \n",
      "3  2/4/16            0.37       10.00        -2.47      -5.89   \n",
      "4  2/5/16            0.52        9.21        -2.00      -4.15   \n",
      "\n",
      "   Relative humidity  Wind speed  Station pressure  Altimeter  Solar energy  \n",
      "0              79.46        4.70             29.23      30.02       20256.0  \n",
      "1              93.60       13.29             28.91      29.70        1761.0  \n",
      "2              85.00       16.73             29.03      29.82        2775.0  \n",
      "3              74.52        9.46             29.46      30.26       28695.0  \n",
      "4              82.03        5.92             29.55      30.35        9517.0  \n",
      "\n",
      "Shape of daily_weather:\n",
      "(637, 10)\n"
     ]
    }
   ],
   "source": [
    "daily_weather = pd.read_csv('datasets/daily_weather.csv', delimiter=',')\n",
    "daily_weather = daily_weather.drop('(Inverters)', axis=1)\n",
    "\n",
    "print(\"First five rows of daily_weather:\")\n",
    "print(daily_weather.head())\n",
    "\n",
    "print(\"\\nShape of daily_weather:\")\n",
    "print(daily_weather.shape)\n"
   ]
  },
  {
   "cell_type": "code",
   "execution_count": 13,
   "metadata": {},
   "outputs": [
    {
     "name": "stdout",
     "output_type": "stream",
     "text": [
      "First five rows of hourly_day_only_weather:\n",
      "     Random    Date  Hour  Cloud coverage  Visibility  Temperature  Dew point   \n",
      "0  0.201522  2/1/16     6            0.00        9.92         0.37      -0.01  \\\n",
      "1  0.352811  2/1/16     7            0.00       10.00         0.47      -0.04   \n",
      "2  0.494041  2/1/16     8            0.14        9.92         0.89       0.30   \n",
      "3  0.088766  2/1/16     9            0.92       10.00         1.97       0.41   \n",
      "4  0.376426  2/1/16    10            0.46       10.00         3.15       1.07   \n",
      "\n",
      "   Relative humidity  Wind speed  Station pressure  Altimeter  Solar energy  \n",
      "0              89.12        4.72             29.19      29.98          0.00  \n",
      "1              90.08        6.00             29.20      29.99         84.29  \n",
      "2              92.00        2.76             29.22      30.01        531.00  \n",
      "3              86.12        5.56             29.24      30.04        923.75  \n",
      "4              82.48        2.12             29.27      30.06       1947.75  \n",
      "\n",
      "Shape of hourly_day_only_weather:\n",
      "(7536, 12)\n"
     ]
    }
   ],
   "source": [
    "hourly_day_only_weather = pd.read_csv('datasets/hourly_day_only_weather.csv', delimiter=',')\n",
    "hourly_day_only_weather = hourly_day_only_weather.drop(['(Inverter)', 'Unnamed: 13'], axis=1)\n",
    "\n",
    "print(\"First five rows of hourly_day_only_weather:\")\n",
    "print(hourly_day_only_weather.head())\n",
    "\n",
    "print(\"\\nShape of hourly_day_only_weather:\")\n",
    "print(hourly_day_only_weather.shape)"
   ]
  },
  {
   "cell_type": "code",
   "execution_count": 16,
   "metadata": {},
   "outputs": [
    {
     "name": "stdout",
     "output_type": "stream",
     "text": [
      "First five rows of hourly_with_night_weather:\n",
      "      Date  Hour  Cloud coverage  Visibility  Temperature  Dew point   \n",
      "0  1/31/16    24             0.0        5.00         1.40       0.89  \\\n",
      "1   2/1/16     1             0.0        7.88         1.16       0.62   \n",
      "2   2/1/16     2             0.0        9.84         1.22       0.96   \n",
      "3   2/1/16     3             0.0        9.84         1.02       0.61   \n",
      "4   2/1/16     4             0.0        9.88         0.83       0.45   \n",
      "\n",
      "   Relative humidity  Wind speed  Station pressure  Altimeter  Solar energy  \n",
      "0              95.56        9.00             29.10      29.89           0.0  \n",
      "1              91.04        7.04             29.11      29.90           0.0  \n",
      "2              89.28        8.96             29.12      29.91           0.0  \n",
      "3              89.12        6.36             29.14      29.93           0.0  \n",
      "4              90.08        6.12             29.15      29.94           0.0  \n",
      "\n",
      "Shape of hourly_with_night_weather:\n",
      "(15072, 11)\n"
     ]
    }
   ],
   "source": [
    "hourly_with_night_weather = pd.read_csv('datasets/hourly_day_and_night_weather.csv', delimiter=',')\n",
    "hourly_with_night_weather = hourly_with_night_weather.drop('(Inverter)', axis=1)\n",
    "\n",
    "print(\"First five rows of hourly_with_night_weather:\")\n",
    "print(hourly_with_night_weather.head())\n",
    "\n",
    "print(\"\\nShape of hourly_with_night_weather:\")\n",
    "print(hourly_with_night_weather.shape)"
   ]
  },
  {
   "cell_type": "code",
   "execution_count": null,
   "metadata": {},
   "outputs": [],
   "source": [
    "# Select all rows and columns except the first and last\n",
    "daily_X = daily_weather.iloc[:, 1:-1]\n",
    "daily_y = daily_weather.iloc[:, -1]\n",
    "\n",
    "# Split the data into training, holdout, and test sets\n",
    "daily_X_train, daily_X_temp, daily_y_train, daily_y_temp = train_test_split(daily_X, daily_y, test_size=0.2, random_state=42)\n",
    "daily_X_holdout, daily_X_test, daily_y_holdout, daily_y_test = train_test_split(daily_X_temp, daily_y_temp, test_size=0.5, random_state=42)"
   ]
  },
  {
   "cell_type": "code",
   "execution_count": null,
   "metadata": {},
   "outputs": [],
   "source": [
    "# Select all rows and columns except the first and last\n",
    "hourly_day_only_X = hourly_day_only_weather.iloc[:, 1:-1]\n",
    "hourly_day_only_y = hourly_day_only_weather.iloc[:, -1]\n",
    "\n",
    "# Split the data into training, holdout, and test sets\n",
    "hourly_day_only_X_train, hourly_day_only_X_temp, hourly_day_only_y_train, hourly_day_only_y_temp = train_test_split(hourly_day_only_X, hourly_day_only_y, test_size=0.2, random_state=42)\n",
    "hourly_day_only_X_holdout, hourly_day_only_X_test, hourly_day_only_y_holdout, hourly_day_only_y_test = train_test_split(hourly_day_only_X_temp, hourly_day_only_y_temp, test_size=0.5, random_state=42)"
   ]
  },
  {
   "cell_type": "code",
   "execution_count": null,
   "metadata": {},
   "outputs": [],
   "source": [
    "# Select all rows and columns except the first and last\n",
    "hourly_with_night_X = hourly_with_night_weather.iloc[:, 1:-1]\n",
    "hourly_with_night_y = hourly_with_night_weather.iloc[:, -1]\n",
    "\n",
    "# Split the data into training, holdout, and test sets\n",
    "hourly_with_night_X_train, hourly_with_night_X_temp, hourly_with_night_y_train, hourly_with_night_y_temp = train_test_split(hourly_with_night_X, hourly_with_night_y, test_size=0.2, random_state=42)\n",
    "hourly_with_night_X_holdout, hourly_with_nighty_X_test, hourly_with_night_y_holdout, hourly_with_night_y_test = train_test_split(hourly_with_night_X_temp, hourly_with_night_y_temp, test_size=0.5, random_state=42)"
   ]
  }
 ],
 "metadata": {
  "kernelspec": {
   "display_name": "Python 3",
   "language": "python",
   "name": "python3"
  },
  "language_info": {
   "codemirror_mode": {
    "name": "ipython",
    "version": 3
   },
   "file_extension": ".py",
   "mimetype": "text/x-python",
   "name": "python",
   "nbconvert_exporter": "python",
   "pygments_lexer": "ipython3",
   "version": "3.11.5"
  },
  "orig_nbformat": 4
 },
 "nbformat": 4,
 "nbformat_minor": 2
}
